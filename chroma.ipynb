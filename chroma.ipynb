{
 "cells": [
  {
   "cell_type": "code",
   "execution_count": 1,
   "id": "24f69a6c",
   "metadata": {},
   "outputs": [
    {
     "name": "stdout",
     "output_type": "stream",
     "text": [
      "Note: you may need to restart the kernel to use updated packages.\n"
     ]
    },
    {
     "name": "stderr",
     "output_type": "stream",
     "text": [
      "'DOSKEY'��(��) ���� �Ǵ� �ܺ� ����, ������ �� �ִ� ���α׷�, �Ǵ�\n",
      "��ġ ������ �ƴմϴ�.\n",
      "  WARNING: The script pybase64.exe is installed in 'c:\\Users\\aaab9\\miniconda3\\envs\\langchain_env\\Scripts' which is not on PATH.\n",
      "  Consider adding this directory to PATH or, if you prefer to suppress this warning, use --no-warn-script-location.\n",
      "  WARNING: The script jsonschema.exe is installed in 'c:\\Users\\aaab9\\miniconda3\\envs\\langchain_env\\Scripts' which is not on PATH.\n",
      "  Consider adding this directory to PATH or, if you prefer to suppress this warning, use --no-warn-script-location.\n",
      "  WARNING: The script datasets-cli.exe is installed in 'c:\\Users\\aaab9\\miniconda3\\envs\\langchain_env\\Scripts' which is not on PATH.\n",
      "  Consider adding this directory to PATH or, if you prefer to suppress this warning, use --no-warn-script-location.\n",
      "  WARNING: The script chroma.exe is installed in 'c:\\Users\\aaab9\\miniconda3\\envs\\langchain_env\\Scripts' which is not on PATH.\n",
      "  Consider adding this directory to PATH or, if you prefer to suppress this warning, use --no-warn-script-location.\n",
      "ERROR: pip's dependency resolver does not currently take into account all the packages that are installed. This behaviour is the source of the following dependency conflicts.\n",
      "langchain-chroma 0.1.3 requires chromadb!=0.5.4,!=0.5.5,<0.6.0,>=0.4.0, but you have chromadb 1.0.20 which is incompatible.\n"
     ]
    },
    {
     "name": "stdout",
     "output_type": "stream",
     "text": [
      "Note: you may need to restart the kernel to use updated packages.\n"
     ]
    },
    {
     "name": "stderr",
     "output_type": "stream",
     "text": [
      "'DOSKEY'��(��) ���� �Ǵ� �ܺ� ����, ������ �� �ִ� ���α׷�, �Ǵ�\n",
      "��ġ ������ �ƴմϴ�.\n",
      "WARNING: Skipping thinc as it is not installed.\n",
      "WARNING: Skipping spacy as it is not installed.\n"
     ]
    },
    {
     "name": "stdout",
     "output_type": "stream",
     "text": [
      "Requirement already satisfied: numpy==1.26.4 in c:\\users\\aaab9\\miniconda3\\envs\\langchain_env\\lib\\site-packages (1.26.4)\n",
      "Requirement already satisfied: datasets in c:\\users\\aaab9\\miniconda3\\envs\\langchain_env\\lib\\site-packages (4.0.0)\n",
      "Requirement already satisfied: filelock in c:\\users\\aaab9\\miniconda3\\envs\\langchain_env\\lib\\site-packages (from datasets) (3.18.0)\n",
      "Requirement already satisfied: pyarrow>=15.0.0 in c:\\users\\aaab9\\miniconda3\\envs\\langchain_env\\lib\\site-packages (from datasets) (21.0.0)\n",
      "Requirement already satisfied: dill<0.3.9,>=0.3.0 in c:\\users\\aaab9\\miniconda3\\envs\\langchain_env\\lib\\site-packages (from datasets) (0.3.8)\n",
      "Requirement already satisfied: pandas in c:\\users\\aaab9\\miniconda3\\envs\\langchain_env\\lib\\site-packages (from datasets) (2.3.1)\n",
      "Requirement already satisfied: requests>=2.32.2 in c:\\users\\aaab9\\miniconda3\\envs\\langchain_env\\lib\\site-packages (from datasets) (2.32.4)\n",
      "Requirement already satisfied: tqdm>=4.66.3 in c:\\users\\aaab9\\miniconda3\\envs\\langchain_env\\lib\\site-packages (from datasets) (4.67.1)\n",
      "Requirement already satisfied: xxhash in c:\\users\\aaab9\\miniconda3\\envs\\langchain_env\\lib\\site-packages (from datasets) (3.5.0)\n",
      "Requirement already satisfied: multiprocess<0.70.17 in c:\\users\\aaab9\\miniconda3\\envs\\langchain_env\\lib\\site-packages (from datasets) (0.70.16)\n",
      "Requirement already satisfied: fsspec<=2025.3.0,>=2023.1.0 in c:\\users\\aaab9\\miniconda3\\envs\\langchain_env\\lib\\site-packages (from fsspec[http]<=2025.3.0,>=2023.1.0->datasets) (2025.3.0)\n",
      "Requirement already satisfied: huggingface-hub>=0.24.0 in c:\\users\\aaab9\\miniconda3\\envs\\langchain_env\\lib\\site-packages (from datasets) (0.34.2)\n",
      "Requirement already satisfied: packaging in c:\\users\\aaab9\\miniconda3\\envs\\langchain_env\\lib\\site-packages (from datasets) (24.2)\n",
      "Requirement already satisfied: pyyaml>=5.1 in c:\\users\\aaab9\\miniconda3\\envs\\langchain_env\\lib\\site-packages (from datasets) (6.0.2)\n",
      "Requirement already satisfied: aiohttp!=4.0.0a0,!=4.0.0a1 in c:\\users\\aaab9\\miniconda3\\envs\\langchain_env\\lib\\site-packages (from fsspec[http]<=2025.3.0,>=2023.1.0->datasets) (3.12.15)\n",
      "Requirement already satisfied: aiohappyeyeballs>=2.5.0 in c:\\users\\aaab9\\miniconda3\\envs\\langchain_env\\lib\\site-packages (from aiohttp!=4.0.0a0,!=4.0.0a1->fsspec[http]<=2025.3.0,>=2023.1.0->datasets) (2.6.1)\n",
      "Requirement already satisfied: aiosignal>=1.4.0 in c:\\users\\aaab9\\miniconda3\\envs\\langchain_env\\lib\\site-packages (from aiohttp!=4.0.0a0,!=4.0.0a1->fsspec[http]<=2025.3.0,>=2023.1.0->datasets) (1.4.0)\n",
      "Requirement already satisfied: attrs>=17.3.0 in c:\\users\\aaab9\\miniconda3\\envs\\langchain_env\\lib\\site-packages (from aiohttp!=4.0.0a0,!=4.0.0a1->fsspec[http]<=2025.3.0,>=2023.1.0->datasets) (25.3.0)\n",
      "Requirement already satisfied: frozenlist>=1.1.1 in c:\\users\\aaab9\\miniconda3\\envs\\langchain_env\\lib\\site-packages (from aiohttp!=4.0.0a0,!=4.0.0a1->fsspec[http]<=2025.3.0,>=2023.1.0->datasets) (1.7.0)\n",
      "Requirement already satisfied: multidict<7.0,>=4.5 in c:\\users\\aaab9\\miniconda3\\envs\\langchain_env\\lib\\site-packages (from aiohttp!=4.0.0a0,!=4.0.0a1->fsspec[http]<=2025.3.0,>=2023.1.0->datasets) (6.6.3)\n",
      "Requirement already satisfied: propcache>=0.2.0 in c:\\users\\aaab9\\miniconda3\\envs\\langchain_env\\lib\\site-packages (from aiohttp!=4.0.0a0,!=4.0.0a1->fsspec[http]<=2025.3.0,>=2023.1.0->datasets) (0.3.2)\n",
      "Requirement already satisfied: yarl<2.0,>=1.17.0 in c:\\users\\aaab9\\miniconda3\\envs\\langchain_env\\lib\\site-packages (from aiohttp!=4.0.0a0,!=4.0.0a1->fsspec[http]<=2025.3.0,>=2023.1.0->datasets) (1.20.1)\n",
      "Requirement already satisfied: idna>=2.0 in c:\\users\\aaab9\\miniconda3\\envs\\langchain_env\\lib\\site-packages (from yarl<2.0,>=1.17.0->aiohttp!=4.0.0a0,!=4.0.0a1->fsspec[http]<=2025.3.0,>=2023.1.0->datasets) (3.10)\n",
      "Requirement already satisfied: typing-extensions>=4.2 in c:\\users\\aaab9\\miniconda3\\envs\\langchain_env\\lib\\site-packages (from aiosignal>=1.4.0->aiohttp!=4.0.0a0,!=4.0.0a1->fsspec[http]<=2025.3.0,>=2023.1.0->datasets) (4.14.1)\n",
      "Requirement already satisfied: charset_normalizer<4,>=2 in c:\\users\\aaab9\\miniconda3\\envs\\langchain_env\\lib\\site-packages (from requests>=2.32.2->datasets) (3.4.2)\n",
      "Requirement already satisfied: urllib3<3,>=1.21.1 in c:\\users\\aaab9\\miniconda3\\envs\\langchain_env\\lib\\site-packages (from requests>=2.32.2->datasets) (2.5.0)\n",
      "Requirement already satisfied: certifi>=2017.4.17 in c:\\users\\aaab9\\miniconda3\\envs\\langchain_env\\lib\\site-packages (from requests>=2.32.2->datasets) (2025.7.14)\n",
      "Requirement already satisfied: colorama in c:\\users\\aaab9\\miniconda3\\envs\\langchain_env\\lib\\site-packages (from tqdm>=4.66.3->datasets) (0.4.6)\n",
      "Requirement already satisfied: python-dateutil>=2.8.2 in c:\\users\\aaab9\\miniconda3\\envs\\langchain_env\\lib\\site-packages (from pandas->datasets) (2.9.0.post0)\n",
      "Requirement already satisfied: pytz>=2020.1 in c:\\users\\aaab9\\miniconda3\\envs\\langchain_env\\lib\\site-packages (from pandas->datasets) (2025.2)\n",
      "Requirement already satisfied: tzdata>=2022.7 in c:\\users\\aaab9\\miniconda3\\envs\\langchain_env\\lib\\site-packages (from pandas->datasets) (2025.2)\n",
      "Requirement already satisfied: six>=1.5 in c:\\users\\aaab9\\miniconda3\\envs\\langchain_env\\lib\\site-packages (from python-dateutil>=2.8.2->pandas->datasets) (1.17.0)\n",
      "Note: you may need to restart the kernel to use updated packages.\n"
     ]
    },
    {
     "name": "stderr",
     "output_type": "stream",
     "text": [
      "'DOSKEY'��(��) ���� �Ǵ� �ܺ� ����, ������ �� �ִ� ���α׷�, �Ǵ�\n",
      "��ġ ������ �ƴմϴ�.\n"
     ]
    }
   ],
   "source": [
    "%pip install -Uq chromadb datasets\n",
    "%pip uninstall -y thinc spacy\n",
    "%pip install numpy==1.26.4 datasets --upgrade"
   ]
  },
  {
   "cell_type": "code",
   "execution_count": 2,
   "id": "33d13817",
   "metadata": {},
   "outputs": [
    {
     "name": "stderr",
     "output_type": "stream",
     "text": [
      "c:\\Users\\aaab9\\miniconda3\\envs\\langchain_env\\Lib\\site-packages\\tqdm\\auto.py:21: TqdmWarning: IProgress not found. Please update jupyter and ipywidgets. See https://ipywidgets.readthedocs.io/en/stable/user_install.html\n",
      "  from .autonotebook import tqdm as notebook_tqdm\n",
      "c:\\Users\\aaab9\\miniconda3\\envs\\langchain_env\\Lib\\site-packages\\huggingface_hub\\file_download.py:143: UserWarning: `huggingface_hub` cache-system uses symlinks by default to efficiently store duplicated files but your machine does not support them in C:\\Users\\aaab9\\.cache\\huggingface\\hub\\datasets--sciq. Caching files will still work but in a degraded version that might require more space on your disk. This warning can be disabled by setting the `HF_HUB_DISABLE_SYMLINKS_WARNING` environment variable. For more details, see https://huggingface.co/docs/huggingface_hub/how-to-cache#limitations.\n",
      "To support symlinks on Windows, you either need to activate Developer Mode or to run Python as an administrator. In order to activate developer mode, see this article: https://docs.microsoft.com/en-us/windows/apps/get-started/enable-your-device-for-development\n",
      "  warnings.warn(message)\n",
      "Xet Storage is enabled for this repo, but the 'hf_xet' package is not installed. Falling back to regular HTTP download. For better performance, install the package with: `pip install huggingface_hub[hf_xet]` or `pip install hf_xet`\n",
      "Xet Storage is enabled for this repo, but the 'hf_xet' package is not installed. Falling back to regular HTTP download. For better performance, install the package with: `pip install huggingface_hub[hf_xet]` or `pip install hf_xet`\n",
      "Xet Storage is enabled for this repo, but the 'hf_xet' package is not installed. Falling back to regular HTTP download. For better performance, install the package with: `pip install huggingface_hub[hf_xet]` or `pip install hf_xet`\n",
      "Generating train split: 100%|██████████| 11679/11679 [00:00<00:00, 213403.49 examples/s]\n",
      "Generating validation split: 100%|██████████| 1000/1000 [00:00<00:00, 110104.06 examples/s]\n",
      "Generating test split: 100%|██████████| 1000/1000 [00:00<00:00, 105152.03 examples/s]"
     ]
    },
    {
     "name": "stdout",
     "output_type": "stream",
     "text": [
      "Number of questions :  11679\n"
     ]
    },
    {
     "name": "stderr",
     "output_type": "stream",
     "text": [
      "\n"
     ]
    }
   ],
   "source": [
    "# Get the SciQ dataset from HuggingFace\n",
    "from datasets import load_dataset\n",
    "dataset = load_dataset(\"sciq\", split=\"train\")\n",
    "print(\"Number of questions : \", len(dataset))"
   ]
  },
  {
   "cell_type": "code",
   "execution_count": 3,
   "id": "e473b574",
   "metadata": {},
   "outputs": [
    {
     "data": {
      "text/plain": [
       "datasets.arrow_dataset.Dataset"
      ]
     },
     "execution_count": 3,
     "metadata": {},
     "output_type": "execute_result"
    }
   ],
   "source": [
    "type(dataset)"
   ]
  },
  {
   "cell_type": "code",
   "execution_count": 4,
   "id": "99fa110e",
   "metadata": {},
   "outputs": [
    {
     "data": {
      "text/plain": [
       "{'question': 'What type of organism is commonly used in preparation of foods such as cheese and yogurt?',\n",
       " 'distractor3': 'viruses',\n",
       " 'distractor1': 'protozoa',\n",
       " 'distractor2': 'gymnosperms',\n",
       " 'correct_answer': 'mesophilic organisms',\n",
       " 'support': 'Mesophiles grow best in moderate temperature, typically between 25°C and 40°C (77°F and 104°F). Mesophiles are often found living in or on the bodies of humans or other animals. The optimal growth temperature of many pathogenic mesophiles is 37°C (98°F), the normal human body temperature. Mesophilic organisms have important uses in food preparation, including cheese, yogurt, beer and wine.'}"
      ]
     },
     "execution_count": 4,
     "metadata": {},
     "output_type": "execute_result"
    }
   ],
   "source": [
    "dataset[0]"
   ]
  },
  {
   "cell_type": "code",
   "execution_count": 5,
   "id": "5b7a6588",
   "metadata": {},
   "outputs": [
    {
     "name": "stderr",
     "output_type": "stream",
     "text": [
      "Filter: 100%|██████████| 11679/11679 [00:00<00:00, 21850.33 examples/s]"
     ]
    },
    {
     "name": "stdout",
     "output_type": "stream",
     "text": [
      "Number of questions with support:  10481\n"
     ]
    },
    {
     "name": "stderr",
     "output_type": "stream",
     "text": [
      "\n"
     ]
    }
   ],
   "source": [
    "dataset = dataset.filter(lambda x: x[\"support\"] != \"\")\n",
    "print(\"Number of questions with support: \", len(dataset))"
   ]
  },
  {
   "cell_type": "code",
   "execution_count": 9,
   "id": "6d1d4bf7",
   "metadata": {},
   "outputs": [
    {
     "data": {
      "text/plain": [
       "['What type of organism is commonly used in preparation of foods such as cheese and yogurt?',\n",
       " 'What phenomenon makes global winds blow northeast to southwest or the reverse in the northern hemisphere and northwest to southeast or the reverse in the southern hemisphere?',\n",
       " 'Changes from a less-ordered state to a more-ordered state (such as a liquid to a solid) are always what?',\n",
       " 'What is the least dangerous radioactive decay?',\n",
       " 'Kilauea in hawaii is the world’s most continuously active volcano. very active volcanoes characteristically eject red-hot rocks and lava rather than this?',\n",
       " 'When a meteoroid reaches earth, what is the remaining object called?',\n",
       " 'What kind of a reaction occurs when a substance reacts quickly with oxygen?',\n",
       " 'Organisms categorized by what species descriptor demonstrate a version of allopatric speciation and have limited regions of overlap with one another, but where they overlap they interbreed successfully?.',\n",
       " 'Alpha emission is a type of what?',\n",
       " 'What is the stored food in a seed called?']"
      ]
     },
     "execution_count": 9,
     "metadata": {},
     "output_type": "execute_result"
    }
   ],
   "source": [
    "dataset['question'][:10]"
   ]
  },
  {
   "cell_type": "code",
   "execution_count": 10,
   "id": "447f1728",
   "metadata": {},
   "outputs": [
    {
     "data": {
      "text/plain": [
       "'active metal'"
      ]
     },
     "execution_count": 10,
     "metadata": {},
     "output_type": "execute_result"
    }
   ],
   "source": [
    "dataset[\"correct_answer\"][10]"
   ]
  },
  {
   "cell_type": "code",
   "execution_count": 11,
   "id": "0c462d85",
   "metadata": {},
   "outputs": [
    {
     "data": {
      "text/plain": [
       "'One way to keep iron from corroding is to keep it painted. The layer of paint prevents the water and oxygen necessary for rust formation from coming into contact with the iron. As long as the paint remains intact, the iron is protected from corrosion. Other strategies include alloying the iron with other metals. For example, stainless steel is mostly iron with a bit of chromium. The chromium tends to collect near the surface, where it forms an oxide layer that protects the iron. Zinc-plated or galvanized iron uses a different strategy. Zinc is more easily oxidized than iron because zinc has a lower reduction potential. Since zinc has a lower reduction potential, it is a more active metal. Thus, even if the zinc coating is scratched, the zinc will still oxidize before the iron. This suggests that this approach should work with other active metals. Another important way to protect metal is to make it the cathode in a galvanic cell. This is cathodic protection and can be used for metals other than just iron. For example, the rusting of underground iron storage tanks and pipes can be prevented or greatly reduced by connecting them to a more active metal such as zinc or magnesium (Figure 17.18). This is also used to protect the metal parts in water heaters. The more active metals (lower reduction potential) are called sacrificial anodes because as they get used up as they corrode (oxidize) at the anode. The metal being protected serves as the cathode, and so does not oxidize (corrode). When the anodes are properly monitored and periodically replaced, the useful lifetime of the iron storage tank can be greatly extended.'"
      ]
     },
     "execution_count": 11,
     "metadata": {},
     "output_type": "execute_result"
    }
   ],
   "source": [
    "dataset['support'][10]"
   ]
  },
  {
   "cell_type": "code",
   "execution_count": 12,
   "id": "ad181c34",
   "metadata": {},
   "outputs": [],
   "source": [
    "# Import Chroma and instantiate a client.\n",
    "# The default Chroma client is ephemeral, meaning it will not save to disk.\n",
    "# Chroma를 가져와서 클라이언트를 인스턴스화합니다.\n",
    "# 기본 Chroma 클라이언트는 임시적이므로 디스크에 저장되지 않습니다.\n",
    "\n",
    "import chromadb\n",
    "client = chromadb.Client()"
   ]
  },
  {
   "cell_type": "code",
   "execution_count": 14,
   "id": "32ce05ca",
   "metadata": {},
   "outputs": [],
   "source": [
    "# Create a new Chroma collection to store the supporting evidence.\n",
    "# We don't need to specify an embedding fuction, and the default will be used.\n",
    "# 새 크로마 컬렉션을 만들어 증빙 자료를 저장합니다.\n",
    "# 임베딩 함수를 지정할 필요는 없으며 기본값이 사용됩니다.\n",
    "collection = client.create_collection(\"sciq_supports\")"
   ]
  },
  {
   "cell_type": "code",
   "execution_count": 15,
   "id": "10bcc7c8",
   "metadata": {},
   "outputs": [
    {
     "data": {
      "text/plain": [
       "chromadb.api.models.Collection.Collection"
      ]
     },
     "execution_count": 15,
     "metadata": {},
     "output_type": "execute_result"
    }
   ],
   "source": [
    "type(collection)"
   ]
  },
  {
   "cell_type": "code",
   "execution_count": 16,
   "id": "69e84fa2",
   "metadata": {},
   "outputs": [
    {
     "data": {
      "text/plain": [
       "Dataset({\n",
       "    features: ['question', 'distractor3', 'distractor1', 'distractor2', 'correct_answer', 'support'],\n",
       "    num_rows: 10481\n",
       "})"
      ]
     },
     "execution_count": 16,
     "metadata": {},
     "output_type": "execute_result"
    }
   ],
   "source": [
    "dataset"
   ]
  },
  {
   "cell_type": "code",
   "execution_count": 18,
   "id": "136e7533",
   "metadata": {},
   "outputs": [
    {
     "data": {
      "text/plain": [
       "10467"
      ]
     },
     "execution_count": 18,
     "metadata": {},
     "output_type": "execute_result"
    }
   ],
   "source": [
    "len(dataset['support'][14:])"
   ]
  },
  {
   "cell_type": "code",
   "execution_count": 19,
   "id": "aec03206",
   "metadata": {},
   "outputs": [
    {
     "name": "stdout",
     "output_type": "stream",
     "text": [
      "15번째 support : Gene transcription is controlled by regulatory proteins that bind to regulatory elements on DNA. The proteins usually either activate or repress transcription.\n",
      "16번째 support : Occurrence, Preparation, and Compounds of Boron and Silicon Boron constitutes less than 0.001% by weight of the earth’s crust. In nature, it only occurs in compounds with oxygen. Boron is widely distributed in volcanic regions as boric acid, B(OH)3, and in dry lake regions, including the desert areas of California, as borates and salts of boron oxyacids, such as borax, Na2B4O7⋅10H2O. Elemental boron is chemically inert at room temperature, reacting with only fluorine and oxygen to form boron trifluoride, BF3, and boric oxide, B2O3, respectively. At higher temperatures, boron reacts with all nonmetals, except tellurium and the noble gases, and with nearly all metals; it oxidizes to B2O3 when heated with concentrated nitric or sulfuric acid. Boron does not react with nonoxidizing acids. Many boron compounds react readily with water to give boric acid, B(OH)3 (sometimes written as H3BO3). Reduction of boric oxide with magnesium powder forms boron (95–98.5% pure) as a brown, amorphous powder: B 2 O 3(s) + 3Mg(s) ⟶ 2B(s) + 3MgO(s) An amorphous substance is a material that appears to be a solid, but does not have a long-range order like a true solid. Treatment with hydrochloric acid removes the magnesium oxide. Further purification of the boron begins with conversion of the impure boron into boron trichloride. The next step is to heat a mixture of boron trichloride and hydrogen: 1500 °C.\n",
      "17번째 support : 42.1 Circulatory systems link exchange surfaces with cells throughout the body.\n",
      "18번째 support : An allergy occurs when the immune system attacks a harmless substance that enters the body from the outside. A substance that causes an allergy is called an allergen. It is the immune system, not the allergen, that causes the symptoms of an allergy.\n",
      "19번째 support : Fertilization is the union of a sperm and egg, resulting in the formation of a zygote.\n",
      "20번째 support : All plants have a characteristic life cycle that includes alternation of generations . Plants alternate between haploid and diploid generations. Alternation of generations allows for both asexual and sexual reproduction. Asexual reproduction with spores produces haploid individuals called gametophytes . Sexual reproduction with gametes and fertilization produces diploid individuals called sporophytes . A typical plant’s life cycle is diagrammed in Figure below .\n"
     ]
    }
   ],
   "source": [
    "for idx,text in enumerate(dataset['support'][14:20],start=15): # 14 ~ 19\n",
    "    print(f\"{idx}번째 support : {text}\")"
   ]
  },
  {
   "cell_type": "code",
   "execution_count": 20,
   "id": "67755fe5",
   "metadata": {},
   "outputs": [
    {
     "data": {
      "text/plain": [
       "100"
      ]
     },
     "execution_count": 20,
     "metadata": {},
     "output_type": "execute_result"
    }
   ],
   "source": [
    "len(list(zip(dataset['question'],dataset['correct_answer'],dataset['support']))[:100])"
   ]
  },
  {
   "cell_type": "code",
   "execution_count": 21,
   "id": "9026b71d",
   "metadata": {},
   "outputs": [
    {
     "name": "stdout",
     "output_type": "stream",
     "text": [
      " 1. question : Most of the chemical reactions in the body are facilitated by what?\n",
      " 2. correct_answer : enzymes\n",
      " 3. support : Enzymes are critical to the body’s healthy functioning. They assist, for example, with the breakdown of food and its conversion to energy. In fact, most of the chemical reactions in the body are facilitated by enzymes.\n",
      "\n"
     ]
    }
   ],
   "source": [
    "data_pair = list(zip(dataset['question'],dataset['correct_answer'],dataset['support']))[:100]\n",
    "\n",
    "num = 20\n",
    "\n",
    "print(\n",
    "    f\" 1. question : {data_pair[num][0]}\\n\",\n",
    "    f\"2. correct_answer : {data_pair[num][1]}\\n\",\n",
    "    f\"3. support : {data_pair[num][2]}\\n\",\n",
    ")"
   ]
  },
  {
   "cell_type": "code",
   "execution_count": 23,
   "id": "5b10f1db",
   "metadata": {},
   "outputs": [
    {
     "data": {
      "text/plain": [
       "Collection(name=sciq_supports)"
      ]
     },
     "execution_count": 23,
     "metadata": {},
     "output_type": "execute_result"
    }
   ],
   "source": [
    "collection"
   ]
  },
  {
   "cell_type": "code",
   "execution_count": 22,
   "id": "1fd94711",
   "metadata": {},
   "outputs": [
    {
     "name": "stderr",
     "output_type": "stream",
     "text": [
      "C:\\Users\\aaab9\\.cache\\chroma\\onnx_models\\all-MiniLM-L6-v2\\onnx.tar.gz: 100%|██████████| 79.3M/79.3M [02:14<00:00, 618kiB/s] \n"
     ]
    }
   ],
   "source": [
    "# Embed and store the first 100 supports for this demo\n",
    "# 이 데모에 대한 앞 100개의 support 임베딩 및 저장하기\n",
    "collection.add(\n",
    "    ids=[str(i) for i in range(0, 100)],  # IDs are just strings\n",
    "    documents=dataset[\"support\"][:100],\n",
    "    metadatas=[{\"type\": \"support\"} for _ in range(0, 100)],\n",
    ")"
   ]
  },
  {
   "cell_type": "code",
   "execution_count": 24,
   "id": "4cdb7274",
   "metadata": {},
   "outputs": [],
   "source": [
    "results = collection.query(\n",
    "    query_texts=dataset[\"question\"][:10],\n",
    "    n_results=5)"
   ]
  },
  {
   "cell_type": "code",
   "execution_count": 25,
   "id": "3bf30a32",
   "metadata": {},
   "outputs": [
    {
     "data": {
      "text/plain": [
       "{'ids': [['36', '9', '30', '0', '89'],\n",
       "  ['1', '34', '39', '87', '88'],\n",
       "  ['2', '80', '41', '84', '65'],\n",
       "  ['3', '8', '13', '66', '51'],\n",
       "  ['4', '42', '39', '34', '3'],\n",
       "  ['5', '89', '4', '58', '83'],\n",
       "  ['6', '46', '45', '51', '67'],\n",
       "  ['7', '68', '19', '66', '92'],\n",
       "  ['8', '3', '57', '32', '13'],\n",
       "  ['9', '29', '19', '83', '18']],\n",
       " 'embeddings': None,\n",
       " 'documents': [['Agents of Decomposition The fungus-like protist saprobes are specialized to absorb nutrients from nonliving organic matter, such as dead organisms or their wastes. For instance, many types of oomycetes grow on dead animals or algae. Saprobic protists have the essential function of returning inorganic nutrients to the soil and water. This process allows for new plant growth, which in turn generates sustenance for other organisms along the food chain. Indeed, without saprobe species, such as protists, fungi, and bacteria, life would cease to exist as all organic carbon became “tied up” in dead organisms.',\n",
       "   'The stored food in a seed is called endosperm . It nourishes the embryo until it can start making food on its own.',\n",
       "   'Photosynthetic protists use light energy to make food. They are major producers in aquatic ecosystems.',\n",
       "   'Mesophiles grow best in moderate temperature, typically between 25°C and 40°C (77°F and 104°F). Mesophiles are often found living in or on the bodies of humans or other animals. The optimal growth temperature of many pathogenic mesophiles is 37°C (98°F), the normal human body temperature. Mesophilic organisms have important uses in food preparation, including cheese, yogurt, beer and wine.',\n",
       "   'The diatoms are unicellular photosynthetic protists that encase themselves in intricately patterned, glassy cell walls composed of silicon dioxide in a matrix of organic particles (Figure 23.18). These protists are a component of freshwater and marine plankton. Most species of diatoms reproduce asexually, although some instances of sexual reproduction and sporulation also exist. Some diatoms exhibit a slit in their silica shell, called a raphe. By expelling a stream of mucopolysaccharides from the raphe, the diatom can attach to surfaces or propel itself in one direction.'],\n",
       "  ['Without Coriolis Effect the global winds would blow north to south or south to north. But Coriolis makes them blow northeast to southwest or the reverse in the Northern Hemisphere. The winds blow northwest to southeast or the reverse in the southern hemisphere.',\n",
       "   'Divergent plate boundaries produce huge mountain ranges under water in every ocean basin.',\n",
       "   'Earthquakes are primarily the result of plate tectonic motions. What type of stress would cause earthquakes at each of the three types of plate boundaries?.',\n",
       "   'Transform faults are the site of massive earthquakes.',\n",
       "   'Rocks can break apart into smaller pieces in many ways. Ice wedging is common where water goes above and below its freezing point ( Figure below ). This can happen in winter in the mid-latitudes or in colder climates in summer. Ice wedging is common in mountainous regions like the Sierra Nevada pictured above.'],\n",
       "  ['Summary Changes of state are examples of phase changes, or phase transitions. All phase changes are accompanied by changes in the energy of a system. Changes from a more-ordered state to a less-ordered state (such as a liquid to a gas) areendothermic. Changes from a less-ordered state to a more-ordered state (such as a liquid to a solid) are always exothermic. The conversion of a solid to a liquid is called fusion (or melting). The energy required to melt 1 mol of a substance is its enthalpy of fusion (ΔHfus). The energy change required to vaporize 1 mol of a substance is the enthalpy of vaporization (ΔHvap). The direct conversion of a solid to a gas is sublimation. The amount of energy needed to sublime 1 mol of a substance is its enthalpy of sublimation (ΔHsub) and is the sum of the enthalpies of fusion and vaporization. Plots of the temperature of a substance versus heat added or versus heating time at a constant rate of heating are calledheating curves. Heating curves relate temperature changes to phase transitions. A superheated liquid, a liquid at a temperature and pressure at which it should be a gas, is not stable. A cooling curve is not exactly the reverse of the heating curve because many liquids do not freeze at the expected temperature. Instead, they form a supercooled liquid, a metastable liquid phase that exists below the normal melting point. Supercooled liquids usually crystallize on standing, or adding a seed crystal of the same or another substance can induce crystallization.',\n",
       "   'All of the changes of state that occur between solid, liquid and gas are summarized in the diagram in the figure below. Freezing is the opposite of melting and both represent the equilibrium between the solid and liquid states. Evaporation occurs when a liquid turns to a gas. Condensation is the opposite of vaporization and both represent the equilibrium between the liquid and gas states. Deposition is the opposite of sublimation and both represent the equilibrium between the solid and gas states.',\n",
       "   'Under what conditions then, do gases behave least ideally? When a gas is put under high pressure, its molecules are forced closer together as the empty space between the particles is diminished. A decrease in the empty space means that the assumption that the volume of the particles themselves is negligible is less valid. When a gas is cooled, the decrease in kinetic energy of the particles causes them to slow down. If the particles are moving at slower speeds, the attractive forces between them are more prominent. Another way to view it is that continued cooling the gas will eventually turn it into a liquid and a liquid is certainly not an ideal gas anymore (see liquid nitrogen in the Figure below ). In summary, a real gas deviates most from an ideal gas at low temperatures and high pressures. Gases are most ideal at high temperature and low pressure.',\n",
       "   'All alkanes are composed of carbon and hydrogen atoms, and have similar bonds, structures, and formulas; noncyclic alkanes all have a formula of CnH2n+2. The number of carbon atoms present in an alkane has no limit. Greater numbers of atoms in the molecules will lead to stronger intermolecular attractions (dispersion forces) and correspondingly different physical properties of the molecules. Properties such as melting point and boiling point (Table 20.1) usually change smoothly and predictably as the number of carbon and hydrogen atoms in the molecules change. Properties of Some Alkanes[3] Alkane.',\n",
       "   'Some animals change their depth by changing their density. Recall that things that are denser than their surroundings sink while those that are less dense than their surroundings float. Most fish have a swim bladder, a special sac that is filled with gases from their blood. When the fish\\'s swim bladder is full, it is less dense than the surrounding water and the fish will rise towards the surface. Another property of water that affects lakes is the unique changes in density during phase changes. The density of most substances increases when a liquid becomes a solid. This is not so for water: Solid water is actually less dense than liquid water. It is for this reason that ice floats. Can you imagine a world where ice sank? Lakes would freeze from the bottom up, killing many fish. Frozen water in the Polar Regions would sink and change the ocean levels. The fact that ice floats is essential for the survival of many aquatic ecosystems and ultimately life on Earth. Besides the changes in density, there are other ways in which the phase changes of water have significant impacts. When water is trapped in small cracks in rocks, it will expand as it freezes and break up the rock causing weathering. The transpiration (evaporation) of water from a good-sized tree can move 1800 liters of water out of the ground in a single day. Sublimation, the phase change between solid and gas, is responsible for the formation of frost. As you can see, water has many special properties that make its role in nature unique. It is considered the \"universal solvent” because its bipolar molecule enables it to dissolve a wide variety of substances. Water is the only substance that occurs naturally in all three states; solid, liquid, and gas. Water is truly a miracle for life!.'],\n",
       "  ['All radioactive decay is dangerous to living things, but alpha decay is the least dangerous.',\n",
       "   'One type of radioactivity is alpha emission. What is an alpha particle? What happens to an alpha particle after it is emitted from an unstable nucleus?.',\n",
       "   'Nuclear symbols are used to write nuclear equations for radioactive decay. Let’s consider the example of the beta-minus decay of thorium-234 to protactinium-234. This reaction is represented by the equation:.',\n",
       "   'Human overpopulation, which is crowding out other species. It also makes all the other causes of extinction worse.',\n",
       "   'A pile of leaves slowly rots in the backyard. In the presence of oxygen, hydrogen can interact to make water. Gold can be stretched into very thin wires.'],\n",
       "  ['Example 3.5 Calculating Projectile Motion: Hot Rock Projectile Kilauea in Hawaii is the world’s most continuously active volcano. Very active volcanoes characteristically eject red-hot rocks and lava rather than smoke and ash. Suppose a large rock is ejected from the volcano with a speed of 25.0 m/s and at an angle 35.0º above the horizontal, as shown in Figure 3.40. The rock strikes the side of the volcano at an altitude 20.0 m lower than its starting point. (a) Calculate the time it takes the rock to follow this path. (b) What are the magnitude and direction of the rock’s velocity at impact?.',\n",
       "   'Each type of rock weathers in its own way. Certain types of rock are very resistant to weathering. Igneous rocks tend to weather slowly because they are hard. Water cannot easily penetrate them. Granite is a very stable igneous rock. Other types of rock are easily weathered because they dissolve easily in weak acids. Limestone is a sedimentary rock that dissolves easily. When softer rocks wear away, the more resistant rocks form ridges or hills.',\n",
       "   'Earthquakes are primarily the result of plate tectonic motions. What type of stress would cause earthquakes at each of the three types of plate boundaries?.',\n",
       "   'Divergent plate boundaries produce huge mountain ranges under water in every ocean basin.',\n",
       "   'All radioactive decay is dangerous to living things, but alpha decay is the least dangerous.'],\n",
       "  ['Meteoroids are smaller than asteroids, ranging from the size of boulders to the size of sand grains. When meteoroids enter Earth’s atmosphere, they vaporize, creating a trail of glowing gas called a meteor. If any of the meteoroid reaches Earth, the remaining object is called a meteorite.',\n",
       "   'The diatoms are unicellular photosynthetic protists that encase themselves in intricately patterned, glassy cell walls composed of silicon dioxide in a matrix of organic particles (Figure 23.18). These protists are a component of freshwater and marine plankton. Most species of diatoms reproduce asexually, although some instances of sexual reproduction and sporulation also exist. Some diatoms exhibit a slit in their silica shell, called a raphe. By expelling a stream of mucopolysaccharides from the raphe, the diatom can attach to surfaces or propel itself in one direction.',\n",
       "   'Example 3.5 Calculating Projectile Motion: Hot Rock Projectile Kilauea in Hawaii is the world’s most continuously active volcano. Very active volcanoes characteristically eject red-hot rocks and lava rather than smoke and ash. Suppose a large rock is ejected from the volcano with a speed of 25.0 m/s and at an angle 35.0º above the horizontal, as shown in Figure 3.40. The rock strikes the side of the volcano at an altitude 20.0 m lower than its starting point. (a) Calculate the time it takes the rock to follow this path. (b) What are the magnitude and direction of the rock’s velocity at impact?.',\n",
       "   \"The core is the Sun's innermost layer. The core is plasma. It has a temperature of around 15 million degrees Celsius (C). Nuclear fusion reactions create the immense temperature. In these reactions, hydrogen atoms fuse to form helium. This releases vast amounts of energy. The energy moves towards the outer layers of the Sun. Energy from the Sun's core powers most of the solar system.\",\n",
       "   'Sexual reproduction involves haploid gametes and produces a diploid zygote through fertilization.'],\n",
       "  ['A combustion reaction occurs when a substance reacts quickly with oxygen (O 2 ). For example, in the Figure below , charcoal is combining with oxygen. Combustion is commonly called burning, and the substance that burns is usually referred to as fuel. The products of a complete combustion reaction include carbon dioxide (CO 2 ) and water vapor (H 2 O). The reaction typically gives off heat and light as well. The general equation for a complete combustion reaction is:.',\n",
       "   'The metals of group 13 (Al, Ga, In, and Tl) are all reactive. However, passivation occurs as a tough, hard, thin film of the metal oxide forms upon exposure to air. Disruption of this film may counter the passivation, allowing the metal to react. One way to disrupt the film is to expose the passivated metal to mercury. Some of the metal dissolves in the mercury to form an amalgam, which sheds the protective oxide layer to expose the metal to further reaction. The formation of an amalgam allows the metal to react with air and water.',\n",
       "   'Enzymes are involved in most of the biochemical reactions that take place in organisms. About 4,000 such reactions are known to be catalyzed by enzymes, but the number may be even higher. Enzymes allow reactions to occur at the rate necessary for life.',\n",
       "   'A pile of leaves slowly rots in the backyard. In the presence of oxygen, hydrogen can interact to make water. Gold can be stretched into very thin wires.',\n",
       "   'Internal Respiration Internal respiration is gas exchange that occurs at the level of body tissues (Figure 22.23). Similar to external respiration, internal respiration also occurs as simple diffusion due to a partial pressure gradient. However, the partial pressure gradients are opposite of those present at the respiratory membrane. The partial pressure of oxygen in tissues is low, about 40 mm Hg, because oxygen is continuously used for cellular respiration. In contrast, the partial pressure of oxygen in the blood is about 100 mm Hg. This creates a pressure gradient that causes oxygen to dissociate from hemoglobin, diffuse out of the blood, cross the interstitial space, and enter the tissue. Hemoglobin that has little oxygen bound to it loses much of its brightness, so that blood returning to the heart is more burgundy in color. Considering that cellular respiration continuously produces carbon dioxide, the partial pressure of carbon dioxide is lower in the blood than it is in the tissue, causing carbon dioxide to diffuse out of the tissue, cross the interstitial fluid, and enter the blood. It is then carried back to the lungs either bound to hemoglobin, dissolved in plasma, or in a converted form. By the time blood returns to the heart, the partial pressure of oxygen has returned to about 40 mm Hg, and the partial pressure.'],\n",
       "  ['Ring species Ring species demonstrate a version of allopatric speciation. Imagine populations of the species A. Over the geographic range of A there exist a number of subpopulations. These subpopulations (A1 to A5) and (Aa to Ae) have limited regions of overlap with one another but where they overlap they interbreed successfully. But populations A5 and Ae no longer interbreed successfully – are these populations separate species?\\xa0 In this case, there is no clear-cut answer, but it is likely that in the link between the various populations will be broken and one or more species may form in the future. Consider the black bear Ursus americanus. Originally distributed across all of North America, its distribution is now much more fragmented. Isolated populations are free to adapt to their own particular environments and migration between populations is limited. Clearly the environment in Florida is different from that in Mexico, Alaska, or Newfoundland. Different environments will favor different adaptations. If, over time, these populations were to come back into contact with one another, they might or might not be able to interbreed successfully - reproductive isolation may occur and one species may become many.',\n",
       "   'After each mass extinction, new species evolve to fill the habitats where old species lived. This is well documented in the fossil record.',\n",
       "   'All plants have a characteristic life cycle that includes alternation of generations . Plants alternate between haploid and diploid generations. Alternation of generations allows for both asexual and sexual reproduction. Asexual reproduction with spores produces haploid individuals called gametophytes . Sexual reproduction with gametes and fertilization produces diploid individuals called sporophytes . A typical plant’s life cycle is diagrammed in Figure below .',\n",
       "   'Human overpopulation, which is crowding out other species. It also makes all the other causes of extinction worse.',\n",
       "   'The other idea is that evolution occurs by natural selection. Natural selection is the process in which living things with beneficial traits produce more offspring than others do. This results in changes in the traits of living things over time.'],\n",
       "  ['One type of radioactivity is alpha emission. What is an alpha particle? What happens to an alpha particle after it is emitted from an unstable nucleus?.',\n",
       "   'All radioactive decay is dangerous to living things, but alpha decay is the least dangerous.',\n",
       "   'Figure 8.11 The sun emits energy in the form of electromagnetic radiation. This radiation exists at different wavelengths, each of which has its own characteristic energy. All electromagnetic radiation, including visible light, is characterized by its wavelength.',\n",
       "   'An ionic compound contains positive and negative ions.',\n",
       "   'Nuclear symbols are used to write nuclear equations for radioactive decay. Let’s consider the example of the beta-minus decay of thorium-234 to protactinium-234. This reaction is represented by the equation:.'],\n",
       "  ['The stored food in a seed is called endosperm . It nourishes the embryo until it can start making food on its own.',\n",
       "   'Seed plants called angiosperms produce seeds in the ovaries of flowers.',\n",
       "   'All plants have a characteristic life cycle that includes alternation of generations . Plants alternate between haploid and diploid generations. Alternation of generations allows for both asexual and sexual reproduction. Asexual reproduction with spores produces haploid individuals called gametophytes . Sexual reproduction with gametes and fertilization produces diploid individuals called sporophytes . A typical plant’s life cycle is diagrammed in Figure below .',\n",
       "   'Sexual reproduction involves haploid gametes and produces a diploid zygote through fertilization.',\n",
       "   'Fertilization is the union of a sperm and egg, resulting in the formation of a zygote.']],\n",
       " 'uris': None,\n",
       " 'included': ['metadatas', 'documents', 'distances'],\n",
       " 'data': None,\n",
       " 'metadatas': [[{'type': 'support'},\n",
       "   {'type': 'support'},\n",
       "   {'type': 'support'},\n",
       "   {'type': 'support'},\n",
       "   {'type': 'support'}],\n",
       "  [{'type': 'support'},\n",
       "   {'type': 'support'},\n",
       "   {'type': 'support'},\n",
       "   {'type': 'support'},\n",
       "   {'type': 'support'}],\n",
       "  [{'type': 'support'},\n",
       "   {'type': 'support'},\n",
       "   {'type': 'support'},\n",
       "   {'type': 'support'},\n",
       "   {'type': 'support'}],\n",
       "  [{'type': 'support'},\n",
       "   {'type': 'support'},\n",
       "   {'type': 'support'},\n",
       "   {'type': 'support'},\n",
       "   {'type': 'support'}],\n",
       "  [{'type': 'support'},\n",
       "   {'type': 'support'},\n",
       "   {'type': 'support'},\n",
       "   {'type': 'support'},\n",
       "   {'type': 'support'}],\n",
       "  [{'type': 'support'},\n",
       "   {'type': 'support'},\n",
       "   {'type': 'support'},\n",
       "   {'type': 'support'},\n",
       "   {'type': 'support'}],\n",
       "  [{'type': 'support'},\n",
       "   {'type': 'support'},\n",
       "   {'type': 'support'},\n",
       "   {'type': 'support'},\n",
       "   {'type': 'support'}],\n",
       "  [{'type': 'support'},\n",
       "   {'type': 'support'},\n",
       "   {'type': 'support'},\n",
       "   {'type': 'support'},\n",
       "   {'type': 'support'}],\n",
       "  [{'type': 'support'},\n",
       "   {'type': 'support'},\n",
       "   {'type': 'support'},\n",
       "   {'type': 'support'},\n",
       "   {'type': 'support'}],\n",
       "  [{'type': 'support'},\n",
       "   {'type': 'support'},\n",
       "   {'type': 'support'},\n",
       "   {'type': 'support'},\n",
       "   {'type': 'support'}]],\n",
       " 'distances': [[1.1048438549041748,\n",
       "   1.2558344602584839,\n",
       "   1.3100907802581787,\n",
       "   1.3559309244155884,\n",
       "   1.4101788997650146],\n",
       "  [0.46667468547821045,\n",
       "   1.4373831748962402,\n",
       "   1.4541490077972412,\n",
       "   1.482649326324463,\n",
       "   1.5399501323699951],\n",
       "  [0.9318017959594727,\n",
       "   1.0039387941360474,\n",
       "   1.2692673206329346,\n",
       "   1.3840579986572266,\n",
       "   1.401435136795044],\n",
       "  [0.418067991733551,\n",
       "   1.0051329135894775,\n",
       "   1.0791947841644287,\n",
       "   1.573162317276001,\n",
       "   1.6137080192565918],\n",
       "  [1.0375895500183105,\n",
       "   1.4917553663253784,\n",
       "   1.5147300958633423,\n",
       "   1.5194268226623535,\n",
       "   1.5351734161376953],\n",
       "  [0.5699304342269897,\n",
       "   1.4708133935928345,\n",
       "   1.52164888381958,\n",
       "   1.521751880645752,\n",
       "   1.529012680053711],\n",
       "  [0.791527509689331,\n",
       "   1.2269127368927002,\n",
       "   1.23092782497406,\n",
       "   1.2423650026321411,\n",
       "   1.3295338153839111],\n",
       "  [0.7859898805618286,\n",
       "   1.176513910293579,\n",
       "   1.2157235145568848,\n",
       "   1.3147001266479492,\n",
       "   1.315566062927246],\n",
       "  [0.6113287210464478,\n",
       "   1.1276570558547974,\n",
       "   1.2651424407958984,\n",
       "   1.3711001873016357,\n",
       "   1.4121745824813843],\n",
       "  [0.4140006899833679,\n",
       "   1.0602868795394897,\n",
       "   1.317895770072937,\n",
       "   1.3274099826812744,\n",
       "   1.3446165323257446]]}"
      ]
     },
     "execution_count": 25,
     "metadata": {},
     "output_type": "execute_result"
    }
   ],
   "source": [
    "results"
   ]
  },
  {
   "cell_type": "code",
   "execution_count": 28,
   "id": "64f9e8cc",
   "metadata": {},
   "outputs": [
    {
     "data": {
      "text/plain": [
       "dict_keys(['ids', 'embeddings', 'documents', 'uris', 'included', 'data', 'metadatas', 'distances'])"
      ]
     },
     "execution_count": 28,
     "metadata": {},
     "output_type": "execute_result"
    }
   ],
   "source": [
    "results.keys()"
   ]
  },
  {
   "cell_type": "code",
   "execution_count": 31,
   "id": "472c496a",
   "metadata": {},
   "outputs": [
    {
     "data": {
      "text/plain": [
       "[(1.1048438549041748,\n",
       "  'Agents of Decomposition The fungus-like protist saprobes are specialized to absorb nutrients from nonliving organic matter, such as dead organisms or their wastes. For instance, many types of oomycetes grow on dead animals or algae. Saprobic protists have the essential function of returning inorganic nutrients to the soil and water. This process allows for new plant growth, which in turn generates sustenance for other organisms along the food chain. Indeed, without saprobe species, such as protists, fungi, and bacteria, life would cease to exist as all organic carbon became “tied up” in dead organisms.'),\n",
       " (1.2558344602584839,\n",
       "  'The stored food in a seed is called endosperm . It nourishes the embryo until it can start making food on its own.'),\n",
       " (1.3100907802581787,\n",
       "  'Photosynthetic protists use light energy to make food. They are major producers in aquatic ecosystems.'),\n",
       " (1.3559309244155884,\n",
       "  'Mesophiles grow best in moderate temperature, typically between 25°C and 40°C (77°F and 104°F). Mesophiles are often found living in or on the bodies of humans or other animals. The optimal growth temperature of many pathogenic mesophiles is 37°C (98°F), the normal human body temperature. Mesophilic organisms have important uses in food preparation, including cheese, yogurt, beer and wine.'),\n",
       " (1.4101788997650146,\n",
       "  'The diatoms are unicellular photosynthetic protists that encase themselves in intricately patterned, glassy cell walls composed of silicon dioxide in a matrix of organic particles (Figure 23.18). These protists are a component of freshwater and marine plankton. Most species of diatoms reproduce asexually, although some instances of sexual reproduction and sporulation also exist. Some diatoms exhibit a slit in their silica shell, called a raphe. By expelling a stream of mucopolysaccharides from the raphe, the diatom can attach to surfaces or propel itself in one direction.')]"
      ]
     },
     "execution_count": 31,
     "metadata": {},
     "output_type": "execute_result"
    }
   ],
   "source": [
    "list(zip(results['distances'][0],results['documents'][0]))"
   ]
  },
  {
   "cell_type": "code",
   "execution_count": 33,
   "id": "83f8b15c",
   "metadata": {},
   "outputs": [
    {
     "data": {
      "text/plain": [
       "[(1.1048438549041748, '36'),\n",
       " (0.46667468547821045, '1'),\n",
       " (0.9318017959594727, '2'),\n",
       " (0.418067991733551, '3'),\n",
       " (1.0375895500183105, '4'),\n",
       " (0.5699304342269897, '5'),\n",
       " (0.791527509689331, '6'),\n",
       " (0.7859898805618286, '7'),\n",
       " (0.6113287210464478, '8'),\n",
       " (0.4140006899833679, '9')]"
      ]
     },
     "execution_count": 33,
     "metadata": {},
     "output_type": "execute_result"
    }
   ],
   "source": [
    "combined=[(results['distances'][i][0],results['ids'][i][0]) for i in range(0,10)]\n",
    "combined"
   ]
  },
  {
   "cell_type": "code",
   "execution_count": 35,
   "id": "2f2b8339",
   "metadata": {},
   "outputs": [
    {
     "data": {
      "text/plain": [
       "(0.418067991733551, '3')"
      ]
     },
     "execution_count": 35,
     "metadata": {},
     "output_type": "execute_result"
    }
   ],
   "source": [
    "(results['distances'][3][0],results['ids'][3][0])"
   ]
  },
  {
   "cell_type": "code",
   "execution_count": 36,
   "id": "81767ef1",
   "metadata": {},
   "outputs": [
    {
     "name": "stdout",
     "output_type": "stream",
     "text": [
      "Question: What type of organism is commonly used in preparation of foods such as cheese and yogurt?\n",
      "correct support :Mesophiles grow best in moderate temperature, typically between 25°C and 40°C (77°F and 104°F). Mesophiles are often found living in or on the bodies of humans or other animals. The optimal growth temperature of many pathogenic mesophiles is 37°C (98°F), the normal human body temperature. Mesophilic organisms have important uses in food preparation, including cheese, yogurt, beer and wine.\n",
      "Retrieved support: Agents of Decomposition The fungus-like protist saprobes are specialized to absorb nutrients from nonliving organic matter, such as dead organisms or their wastes. For instance, many types of oomycetes grow on dead animals or algae. Saprobic protists have the essential function of returning inorganic nutrients to the soil and water. This process allows for new plant growth, which in turn generates sustenance for other organisms along the food chain. Indeed, without saprobe species, such as protists, fungi, and bacteria, life would cease to exist as all organic carbon became “tied up” in dead organisms.\n",
      "\n",
      "Question: What phenomenon makes global winds blow northeast to southwest or the reverse in the northern hemisphere and northwest to southeast or the reverse in the southern hemisphere?\n",
      "correct support :Without Coriolis Effect the global winds would blow north to south or south to north. But Coriolis makes them blow northeast to southwest or the reverse in the Northern Hemisphere. The winds blow northwest to southeast or the reverse in the southern hemisphere.\n",
      "Retrieved support: Without Coriolis Effect the global winds would blow north to south or south to north. But Coriolis makes them blow northeast to southwest or the reverse in the Northern Hemisphere. The winds blow northwest to southeast or the reverse in the southern hemisphere.\n",
      "\n",
      "Question: Changes from a less-ordered state to a more-ordered state (such as a liquid to a solid) are always what?\n",
      "correct support :Summary Changes of state are examples of phase changes, or phase transitions. All phase changes are accompanied by changes in the energy of a system. Changes from a more-ordered state to a less-ordered state (such as a liquid to a gas) areendothermic. Changes from a less-ordered state to a more-ordered state (such as a liquid to a solid) are always exothermic. The conversion of a solid to a liquid is called fusion (or melting). The energy required to melt 1 mol of a substance is its enthalpy of fusion (ΔHfus). The energy change required to vaporize 1 mol of a substance is the enthalpy of vaporization (ΔHvap). The direct conversion of a solid to a gas is sublimation. The amount of energy needed to sublime 1 mol of a substance is its enthalpy of sublimation (ΔHsub) and is the sum of the enthalpies of fusion and vaporization. Plots of the temperature of a substance versus heat added or versus heating time at a constant rate of heating are calledheating curves. Heating curves relate temperature changes to phase transitions. A superheated liquid, a liquid at a temperature and pressure at which it should be a gas, is not stable. A cooling curve is not exactly the reverse of the heating curve because many liquids do not freeze at the expected temperature. Instead, they form a supercooled liquid, a metastable liquid phase that exists below the normal melting point. Supercooled liquids usually crystallize on standing, or adding a seed crystal of the same or another substance can induce crystallization.\n",
      "Retrieved support: Summary Changes of state are examples of phase changes, or phase transitions. All phase changes are accompanied by changes in the energy of a system. Changes from a more-ordered state to a less-ordered state (such as a liquid to a gas) areendothermic. Changes from a less-ordered state to a more-ordered state (such as a liquid to a solid) are always exothermic. The conversion of a solid to a liquid is called fusion (or melting). The energy required to melt 1 mol of a substance is its enthalpy of fusion (ΔHfus). The energy change required to vaporize 1 mol of a substance is the enthalpy of vaporization (ΔHvap). The direct conversion of a solid to a gas is sublimation. The amount of energy needed to sublime 1 mol of a substance is its enthalpy of sublimation (ΔHsub) and is the sum of the enthalpies of fusion and vaporization. Plots of the temperature of a substance versus heat added or versus heating time at a constant rate of heating are calledheating curves. Heating curves relate temperature changes to phase transitions. A superheated liquid, a liquid at a temperature and pressure at which it should be a gas, is not stable. A cooling curve is not exactly the reverse of the heating curve because many liquids do not freeze at the expected temperature. Instead, they form a supercooled liquid, a metastable liquid phase that exists below the normal melting point. Supercooled liquids usually crystallize on standing, or adding a seed crystal of the same or another substance can induce crystallization.\n",
      "\n",
      "Question: What is the least dangerous radioactive decay?\n",
      "correct support :All radioactive decay is dangerous to living things, but alpha decay is the least dangerous.\n",
      "Retrieved support: All radioactive decay is dangerous to living things, but alpha decay is the least dangerous.\n",
      "\n",
      "Question: Kilauea in hawaii is the world’s most continuously active volcano. very active volcanoes characteristically eject red-hot rocks and lava rather than this?\n",
      "correct support :Example 3.5 Calculating Projectile Motion: Hot Rock Projectile Kilauea in Hawaii is the world’s most continuously active volcano. Very active volcanoes characteristically eject red-hot rocks and lava rather than smoke and ash. Suppose a large rock is ejected from the volcano with a speed of 25.0 m/s and at an angle 35.0º above the horizontal, as shown in Figure 3.40. The rock strikes the side of the volcano at an altitude 20.0 m lower than its starting point. (a) Calculate the time it takes the rock to follow this path. (b) What are the magnitude and direction of the rock’s velocity at impact?.\n",
      "Retrieved support: Example 3.5 Calculating Projectile Motion: Hot Rock Projectile Kilauea in Hawaii is the world’s most continuously active volcano. Very active volcanoes characteristically eject red-hot rocks and lava rather than smoke and ash. Suppose a large rock is ejected from the volcano with a speed of 25.0 m/s and at an angle 35.0º above the horizontal, as shown in Figure 3.40. The rock strikes the side of the volcano at an altitude 20.0 m lower than its starting point. (a) Calculate the time it takes the rock to follow this path. (b) What are the magnitude and direction of the rock’s velocity at impact?.\n",
      "\n",
      "Question: When a meteoroid reaches earth, what is the remaining object called?\n",
      "correct support :Meteoroids are smaller than asteroids, ranging from the size of boulders to the size of sand grains. When meteoroids enter Earth’s atmosphere, they vaporize, creating a trail of glowing gas called a meteor. If any of the meteoroid reaches Earth, the remaining object is called a meteorite.\n",
      "Retrieved support: Meteoroids are smaller than asteroids, ranging from the size of boulders to the size of sand grains. When meteoroids enter Earth’s atmosphere, they vaporize, creating a trail of glowing gas called a meteor. If any of the meteoroid reaches Earth, the remaining object is called a meteorite.\n",
      "\n",
      "Question: What kind of a reaction occurs when a substance reacts quickly with oxygen?\n",
      "correct support :A combustion reaction occurs when a substance reacts quickly with oxygen (O 2 ). For example, in the Figure below , charcoal is combining with oxygen. Combustion is commonly called burning, and the substance that burns is usually referred to as fuel. The products of a complete combustion reaction include carbon dioxide (CO 2 ) and water vapor (H 2 O). The reaction typically gives off heat and light as well. The general equation for a complete combustion reaction is:.\n",
      "Retrieved support: A combustion reaction occurs when a substance reacts quickly with oxygen (O 2 ). For example, in the Figure below , charcoal is combining with oxygen. Combustion is commonly called burning, and the substance that burns is usually referred to as fuel. The products of a complete combustion reaction include carbon dioxide (CO 2 ) and water vapor (H 2 O). The reaction typically gives off heat and light as well. The general equation for a complete combustion reaction is:.\n",
      "\n",
      "Question: Organisms categorized by what species descriptor demonstrate a version of allopatric speciation and have limited regions of overlap with one another, but where they overlap they interbreed successfully?.\n",
      "correct support :Ring species Ring species demonstrate a version of allopatric speciation. Imagine populations of the species A. Over the geographic range of A there exist a number of subpopulations. These subpopulations (A1 to A5) and (Aa to Ae) have limited regions of overlap with one another but where they overlap they interbreed successfully. But populations A5 and Ae no longer interbreed successfully – are these populations separate species?  In this case, there is no clear-cut answer, but it is likely that in the link between the various populations will be broken and one or more species may form in the future. Consider the black bear Ursus americanus. Originally distributed across all of North America, its distribution is now much more fragmented. Isolated populations are free to adapt to their own particular environments and migration between populations is limited. Clearly the environment in Florida is different from that in Mexico, Alaska, or Newfoundland. Different environments will favor different adaptations. If, over time, these populations were to come back into contact with one another, they might or might not be able to interbreed successfully - reproductive isolation may occur and one species may become many.\n",
      "Retrieved support: Ring species Ring species demonstrate a version of allopatric speciation. Imagine populations of the species A. Over the geographic range of A there exist a number of subpopulations. These subpopulations (A1 to A5) and (Aa to Ae) have limited regions of overlap with one another but where they overlap they interbreed successfully. But populations A5 and Ae no longer interbreed successfully – are these populations separate species?  In this case, there is no clear-cut answer, but it is likely that in the link between the various populations will be broken and one or more species may form in the future. Consider the black bear Ursus americanus. Originally distributed across all of North America, its distribution is now much more fragmented. Isolated populations are free to adapt to their own particular environments and migration between populations is limited. Clearly the environment in Florida is different from that in Mexico, Alaska, or Newfoundland. Different environments will favor different adaptations. If, over time, these populations were to come back into contact with one another, they might or might not be able to interbreed successfully - reproductive isolation may occur and one species may become many.\n",
      "\n",
      "Question: Alpha emission is a type of what?\n",
      "correct support :One type of radioactivity is alpha emission. What is an alpha particle? What happens to an alpha particle after it is emitted from an unstable nucleus?.\n",
      "Retrieved support: One type of radioactivity is alpha emission. What is an alpha particle? What happens to an alpha particle after it is emitted from an unstable nucleus?.\n",
      "\n",
      "Question: What is the stored food in a seed called?\n",
      "correct support :The stored food in a seed is called endosperm . It nourishes the embryo until it can start making food on its own.\n",
      "Retrieved support: The stored food in a seed is called endosperm . It nourishes the embryo until it can start making food on its own.\n",
      "\n"
     ]
    }
   ],
   "source": [
    "# Print the question and the corresponding support\n",
    "for i,(q,s) in enumerate(zip(dataset['question'][:10], dataset['support'][:10])):\n",
    "    print(f\"Question: {q}\")\n",
    "    print(f\"correct support :{s}\")\n",
    "    print(f\"Retrieved support: {results['documents'][i][0]}\")\n",
    "    print()"
   ]
  },
  {
   "cell_type": "code",
   "execution_count": null,
   "id": "692dea6d",
   "metadata": {},
   "outputs": [],
   "source": []
  }
 ],
 "metadata": {
  "kernelspec": {
   "display_name": "langchain_env",
   "language": "python",
   "name": "python3"
  },
  "language_info": {
   "codemirror_mode": {
    "name": "ipython",
    "version": 3
   },
   "file_extension": ".py",
   "mimetype": "text/x-python",
   "name": "python",
   "nbconvert_exporter": "python",
   "pygments_lexer": "ipython3",
   "version": "3.11.13"
  }
 },
 "nbformat": 4,
 "nbformat_minor": 5
}
