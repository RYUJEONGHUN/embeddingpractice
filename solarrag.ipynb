{
 "cells": [
  {
   "cell_type": "code",
   "execution_count": 1,
   "id": "9345ce90",
   "metadata": {},
   "outputs": [
    {
     "name": "stdout",
     "output_type": "stream",
     "text": [
      "Note: you may need to restart the kernel to use updated packages.\n"
     ]
    },
    {
     "name": "stderr",
     "output_type": "stream",
     "text": [
      "'DOSKEY'��(��) ���� �Ǵ� �ܺ� ����, ������ �� �ִ� ���α׷�, �Ǵ�\n",
      "��ġ ������ �ƴմϴ�.\n",
      "  WARNING: The script openai.exe is installed in 'c:\\Users\\aaab9\\miniconda3\\envs\\langchain_env\\Scripts' which is not on PATH.\n",
      "  Consider adding this directory to PATH or, if you prefer to suppress this warning, use --no-warn-script-location.\n"
     ]
    }
   ],
   "source": [
    "%pip install -Uq openai"
   ]
  },
  {
   "cell_type": "code",
   "execution_count": null,
   "id": "d3a93f6d",
   "metadata": {},
   "outputs": [],
   "source": []
  },
  {
   "cell_type": "code",
   "execution_count": 2,
   "id": "e9be8f3b",
   "metadata": {},
   "outputs": [
    {
     "data": {
      "text/plain": [
       "'1.107.2'"
      ]
     },
     "execution_count": 2,
     "metadata": {},
     "output_type": "execute_result"
    }
   ],
   "source": [
    "import openai\n",
    "openai.__version__"
   ]
  },
  {
   "cell_type": "code",
   "execution_count": 3,
   "id": "117e6cff",
   "metadata": {},
   "outputs": [
    {
     "name": "stdout",
     "output_type": "stream",
     "text": [
      "예시입니다.예시입니다.\n"
     ]
    }
   ],
   "source": [
    "print(\"예시입니다.\",end=\"\")\n",
    "print(\"예시입니다.\")"
   ]
  },
  {
   "cell_type": "code",
   "execution_count": null,
   "id": "555ee897",
   "metadata": {},
   "outputs": [
    {
     "name": "stdout",
     "output_type": "stream",
     "text": [
      "물론입니다. 한국 역사 연구에서 지적되는 문제점들을 3가지로 정리해보았습니다.\n",
      "\n",
      "1. **일제강점기 역사 왜곡의 잔재**: 일제강점기 동안 일본 제국주의는 한국의 역사 인식을 왜곡하고 폄하하는 작업을 진행하였습니다. 이로 인해 해방 이후까지도 이러한 역사관이 완전히 청산되지 못한 측면이 있습니다. 예를 들어, '정한론(征韓論)'에 기반한 한국의 역사 평가나 '임나일본부설'과 같은 터무니없는 주장이 일부 학계에서 계속 제기되는 것이 그 예입니다. 이러한 왜곡된 역사관을 바로잡기 위해서는 지속적인 연구와 교육이 필요합니다.\n",
      "\n",
      "2. **고대사와 근현대사의 불균형**: 한국 역사 연구에서 고대사와 근현대사에 대한 관심이 불균형한 경향이 있습니다. 고대사는 유적, 유물 등의 고고학적 자료가 상대적으로 부족하여 연구가 어렵고, 근현대사는 정치적, 사회적 민감성 때문에 연구가 제한되는 경우가 많습니다. 이러한 불균형을 해소하기 위해서는 고대사에 대한 새로운 연구 방법론을 개발하고, 근현대사에 대한 객관적이고 다양한 관점의 연구를 장려해야 합니다.\n",
      "\n",
      "3. **민족주의적 역사관의 편향**: 한국 역사 연구에서 민족주의적 역사관이 강하게 작용하는 경우가 있습니다. 이는 한국의 역사와 문화를 다른 나라와 비교하여 우월성을 강조하거나, 외세의 침략과 지배를 지나치게 강조하는 경향을 보입니다. 이러한 민족주의적 역사관은 객관적인 역사 인식을 저해하고, 다른 나라와의 역사적 갈등을 심화시킬 수 있습니다. 따라서 역사 연구에서는 민족주의적 관점을 넘어 보편적인 인류사의 관점에서 접근하는 것이 중요합니다.\n",
      "\n",
      "이러한 문제점들을 인식하고 해결해 나가는 것은 한국 역사 연구의 질을 높이고, 보다 객관적이고 균형 잡힌 역사 인식을 갖추는 데에 필수적입니다.\n"
     ]
    }
   ],
   "source": [
    "from openai import OpenAI # openai==1.93.1\n",
    "from dotenv import load_dotenv\n",
    "import os\n",
    "\n",
    "# 실행하면 .env file 내의 환경변수 컴퓨터에 저장\n",
    "load_dotenv()\n",
    "api_key = os.getenv(\"SOLAR_API_KEY\")\n",
    "\n",
    "\n",
    "client = OpenAI(\n",
    "    api_key=api_key,\n",
    "    base_url=\"https://api.upstage.ai/v1\",\n",
    ")\n",
    "\n",
    "stream = client.chat.completions.create(\n",
    "    model=\"solar-mini\",\n",
    "    messages=[\n",
    "      {\n",
    "        \"role\": \"system\",\n",
    "        \"content\": \"너는 한국 역사학자로, 한국 역사에 대해서 설명하는 일을 하며 30대 중후반이야. 말투는 고급지며 이모티콘은 부분적으로 사용해\"\n",
    "      },\n",
    "      {\n",
    "        \"role\": \"user\",\n",
    "        \"content\": \"한국 역사의 문제점에 대해서 3가지로 작성해줘. 그 이유도 같이 작성해줘\"\n",
    "      },\n",
    "      #{\n",
    "      #    \"role\":\"assistant\",\n",
    "      #    \"content\":stream.choices[0].message.content\n",
    "      #},\n",
    "      #{\n",
    "      #  \"role\": \"user\",\n",
    "      #  \"content\": \"그 3가지 문제점을 해결하는 방법과 그 이유도 같이 작성해줘\"\n",
    "      #},\n",
    "    ],\n",
    "    stream=True,\n",
    ")\n",
    "\n",
    "# for chunk in stream:\n",
    "#     if chunk.choices[0].delta.content is not None:\n",
    "#         print(chunk.choices[0].delta.content,end=\"\")\n",
    "\n",
    "# Use with stream=False\n",
    "print(stream.choices[0].message.content)"
   ]
  },
  {
   "cell_type": "code",
   "execution_count": null,
   "id": "48125b39",
   "metadata": {},
   "outputs": [],
   "source": []
  },
  {
   "cell_type": "code",
   "execution_count": null,
   "id": "c1b5ee04",
   "metadata": {},
   "outputs": [],
   "source": []
  },
  {
   "cell_type": "code",
   "execution_count": null,
   "id": "dc93b21d",
   "metadata": {},
   "outputs": [],
   "source": []
  },
  {
   "cell_type": "code",
   "execution_count": null,
   "id": "2b3a025f",
   "metadata": {},
   "outputs": [],
   "source": []
  }
 ],
 "metadata": {
  "kernelspec": {
   "display_name": "langchain_env",
   "language": "python",
   "name": "python3"
  },
  "language_info": {
   "codemirror_mode": {
    "name": "ipython",
    "version": 3
   },
   "file_extension": ".py",
   "mimetype": "text/x-python",
   "name": "python",
   "nbconvert_exporter": "python",
   "pygments_lexer": "ipython3",
   "version": "3.11.13"
  }
 },
 "nbformat": 4,
 "nbformat_minor": 5
}
